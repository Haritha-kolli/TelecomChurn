{
 "cells": [
  {
   "cell_type": "markdown",
   "metadata": {},
   "source": [
    "<center><h3>Telecom Churn CaseStudy</h3></center>"
   ]
  },
  {
   "cell_type": "markdown",
   "metadata": {},
   "source": [
    "`Business Problem Statement` :\n",
    "In the telecom industry, customers are able to choose from multiple service providers and actively switch from one operator to another. In this highly competitive market, the telecommunications industry experiences an average of 15-25% annual churn rate. Given the fact that it costs 5-10 times more to acquire a new customer than to retain an existing one, customer retention has now become even more important than customer acquisition.\n",
    "\n",
    "`Churn` : \n",
    "- Usage-based churn: Customers who have not done any usage, either incoming or outgoing - in terms of calls, internet etc. over a period of time.\n",
    "- High Value churn: In the Indian and the southeast Asian market, approximately 80% of revenue comes from the top 20% customers (called high-value customers). Thus, if we can reduce churn of the high-value customers, we will be able to reduce significant revenue leakage.\n",
    "\n",
    "`Churn Phases` :3 phases of Customer Lifecyle:\n",
    "- 1) good phase\n",
    "- 2) Action phase - ( it is crucial to identify high-churn-risk customers in this phase )\n",
    "- 3) churn phase\n",
    "\n",
    "`Objective` : analyse customer-level data of a leading telecom firm, build predictive models to identify customers at high risk of churn and identify the main indicators of churn."
   ]
  },
  {
   "cell_type": "markdown",
   "metadata": {},
   "source": [
    ">Data Understanding"
   ]
  },
  {
   "cell_type": "code",
   "execution_count": 170,
   "metadata": {},
   "outputs": [],
   "source": [
    "from IPython.core.interactiveshell import InteractiveShell\n",
    "InteractiveShell.ast_node_interactivity = \"all\"\n",
    "\n",
    "import pandas as pd\n",
    "pd.options.mode.chained_assignment = None\n",
    "import numpy as np\n",
    "\n",
    "import seaborn as sns\n",
    "import matplotlib.pyplot as plt\n",
    "%matplotlib inline\n",
    "\n",
    "# Supress Warnings\n",
    "import warnings\n",
    "warnings.filterwarnings('ignore')"
   ]
  },
  {
   "cell_type": "code",
   "execution_count": 171,
   "metadata": {},
   "outputs": [],
   "source": [
    "%matplotlib inline"
   ]
  },
  {
   "cell_type": "code",
   "execution_count": 172,
   "metadata": {},
   "outputs": [],
   "source": [
    "df = pd.read_csv('telecom_churn_data.csv')"
   ]
  },
  {
   "cell_type": "code",
   "execution_count": 173,
   "metadata": {},
   "outputs": [
    {
     "data": {
      "text/html": [
       "<div>\n",
       "<style scoped>\n",
       "    .dataframe tbody tr th:only-of-type {\n",
       "        vertical-align: middle;\n",
       "    }\n",
       "\n",
       "    .dataframe tbody tr th {\n",
       "        vertical-align: top;\n",
       "    }\n",
       "\n",
       "    .dataframe thead th {\n",
       "        text-align: right;\n",
       "    }\n",
       "</style>\n",
       "<table border=\"1\" class=\"dataframe\">\n",
       "  <thead>\n",
       "    <tr style=\"text-align: right;\">\n",
       "      <th></th>\n",
       "      <th>mobile_number</th>\n",
       "      <th>circle_id</th>\n",
       "      <th>loc_og_t2o_mou</th>\n",
       "      <th>std_og_t2o_mou</th>\n",
       "      <th>loc_ic_t2o_mou</th>\n",
       "      <th>last_date_of_month_6</th>\n",
       "      <th>last_date_of_month_7</th>\n",
       "      <th>last_date_of_month_8</th>\n",
       "      <th>last_date_of_month_9</th>\n",
       "      <th>arpu_6</th>\n",
       "      <th>...</th>\n",
       "      <th>sachet_3g_9</th>\n",
       "      <th>fb_user_6</th>\n",
       "      <th>fb_user_7</th>\n",
       "      <th>fb_user_8</th>\n",
       "      <th>fb_user_9</th>\n",
       "      <th>aon</th>\n",
       "      <th>aug_vbc_3g</th>\n",
       "      <th>jul_vbc_3g</th>\n",
       "      <th>jun_vbc_3g</th>\n",
       "      <th>sep_vbc_3g</th>\n",
       "    </tr>\n",
       "  </thead>\n",
       "  <tbody>\n",
       "    <tr>\n",
       "      <th>0</th>\n",
       "      <td>7000842753</td>\n",
       "      <td>109</td>\n",
       "      <td>0.0</td>\n",
       "      <td>0.0</td>\n",
       "      <td>0.0</td>\n",
       "      <td>6/30/2014</td>\n",
       "      <td>7/31/2014</td>\n",
       "      <td>8/31/2014</td>\n",
       "      <td>9/30/2014</td>\n",
       "      <td>197.385</td>\n",
       "      <td>...</td>\n",
       "      <td>0</td>\n",
       "      <td>1.0</td>\n",
       "      <td>1.0</td>\n",
       "      <td>1.0</td>\n",
       "      <td>NaN</td>\n",
       "      <td>968</td>\n",
       "      <td>30.4</td>\n",
       "      <td>0.0</td>\n",
       "      <td>101.20</td>\n",
       "      <td>3.58</td>\n",
       "    </tr>\n",
       "    <tr>\n",
       "      <th>1</th>\n",
       "      <td>7001865778</td>\n",
       "      <td>109</td>\n",
       "      <td>0.0</td>\n",
       "      <td>0.0</td>\n",
       "      <td>0.0</td>\n",
       "      <td>6/30/2014</td>\n",
       "      <td>7/31/2014</td>\n",
       "      <td>8/31/2014</td>\n",
       "      <td>9/30/2014</td>\n",
       "      <td>34.047</td>\n",
       "      <td>...</td>\n",
       "      <td>0</td>\n",
       "      <td>NaN</td>\n",
       "      <td>1.0</td>\n",
       "      <td>1.0</td>\n",
       "      <td>NaN</td>\n",
       "      <td>1006</td>\n",
       "      <td>0.0</td>\n",
       "      <td>0.0</td>\n",
       "      <td>0.00</td>\n",
       "      <td>0.00</td>\n",
       "    </tr>\n",
       "    <tr>\n",
       "      <th>2</th>\n",
       "      <td>7001625959</td>\n",
       "      <td>109</td>\n",
       "      <td>0.0</td>\n",
       "      <td>0.0</td>\n",
       "      <td>0.0</td>\n",
       "      <td>6/30/2014</td>\n",
       "      <td>7/31/2014</td>\n",
       "      <td>8/31/2014</td>\n",
       "      <td>9/30/2014</td>\n",
       "      <td>167.690</td>\n",
       "      <td>...</td>\n",
       "      <td>0</td>\n",
       "      <td>NaN</td>\n",
       "      <td>NaN</td>\n",
       "      <td>NaN</td>\n",
       "      <td>1.0</td>\n",
       "      <td>1103</td>\n",
       "      <td>0.0</td>\n",
       "      <td>0.0</td>\n",
       "      <td>4.17</td>\n",
       "      <td>0.00</td>\n",
       "    </tr>\n",
       "  </tbody>\n",
       "</table>\n",
       "<p>3 rows × 226 columns</p>\n",
       "</div>"
      ],
      "text/plain": [
       "   mobile_number  circle_id  loc_og_t2o_mou  std_og_t2o_mou  loc_ic_t2o_mou  \\\n",
       "0     7000842753        109             0.0             0.0             0.0   \n",
       "1     7001865778        109             0.0             0.0             0.0   \n",
       "2     7001625959        109             0.0             0.0             0.0   \n",
       "\n",
       "  last_date_of_month_6 last_date_of_month_7 last_date_of_month_8  \\\n",
       "0            6/30/2014            7/31/2014            8/31/2014   \n",
       "1            6/30/2014            7/31/2014            8/31/2014   \n",
       "2            6/30/2014            7/31/2014            8/31/2014   \n",
       "\n",
       "  last_date_of_month_9   arpu_6  ...  sachet_3g_9  fb_user_6  fb_user_7  \\\n",
       "0            9/30/2014  197.385  ...            0        1.0        1.0   \n",
       "1            9/30/2014   34.047  ...            0        NaN        1.0   \n",
       "2            9/30/2014  167.690  ...            0        NaN        NaN   \n",
       "\n",
       "   fb_user_8  fb_user_9   aon  aug_vbc_3g  jul_vbc_3g  jun_vbc_3g  sep_vbc_3g  \n",
       "0        1.0        NaN   968        30.4         0.0      101.20        3.58  \n",
       "1        1.0        NaN  1006         0.0         0.0        0.00        0.00  \n",
       "2        NaN        1.0  1103         0.0         0.0        4.17        0.00  \n",
       "\n",
       "[3 rows x 226 columns]"
      ]
     },
     "execution_count": 173,
     "metadata": {},
     "output_type": "execute_result"
    }
   ],
   "source": [
    "df.head(3)"
   ]
  },
  {
   "cell_type": "code",
   "execution_count": 174,
   "metadata": {},
   "outputs": [
    {
     "name": "stdout",
     "output_type": "stream",
     "text": [
      "<class 'pandas.core.frame.DataFrame'>\n",
      "RangeIndex: 99999 entries, 0 to 99998\n",
      "Columns: 226 entries, mobile_number to sep_vbc_3g\n",
      "dtypes: float64(179), int64(35), object(12)\n",
      "memory usage: 172.4+ MB\n"
     ]
    }
   ],
   "source": [
    "df.info()"
   ]
  },
  {
   "cell_type": "code",
   "execution_count": 175,
   "metadata": {},
   "outputs": [
    {
     "data": {
      "text/plain": [
       "(99999, 226)"
      ]
     },
     "execution_count": 175,
     "metadata": {},
     "output_type": "execute_result"
    }
   ],
   "source": [
    "df.shape"
   ]
  },
  {
   "cell_type": "markdown",
   "metadata": {},
   "source": [
    "\n",
    "- The dataset contains customer-level information for a span of four consecutive months - June, July, August and September. The months are encoded as 6, 7, 8 and 9, respectively.\n",
    "- We have `226` columns and `99999` datapoints\n",
    "- Some frequent columns are loc (local), IC (incoming), OG (outgoing), T2T (telecom operator to telecom operator), T2O (telecom operator to another operator), RECH (recharge)"
   ]
  },
  {
   "cell_type": "code",
   "execution_count": 176,
   "metadata": {},
   "outputs": [
    {
     "name": "stdout",
     "output_type": "stream",
     "text": [
      "Index(['last_date_of_month_6', 'last_date_of_month_7', 'last_date_of_month_8',\n",
      "       'last_date_of_month_9', 'date_of_last_rech_6', 'date_of_last_rech_7',\n",
      "       'date_of_last_rech_8', 'date_of_last_rech_9',\n",
      "       'date_of_last_rech_data_6', 'date_of_last_rech_data_7',\n",
      "       'date_of_last_rech_data_8', 'date_of_last_rech_data_9'],\n",
      "      dtype='object')\n"
     ]
    }
   ],
   "source": [
    "obj_cols = df.select_dtypes('object').columns\n",
    "\n",
    "print(obj_cols)"
   ]
  },
  {
   "cell_type": "markdown",
   "metadata": {},
   "source": [
    ">Data Cleaning"
   ]
  },
  {
   "cell_type": "code",
   "execution_count": 177,
   "metadata": {},
   "outputs": [],
   "source": [
    "#Functions\n",
    "\n",
    "#Missing Values\n",
    "def missing_values(DataFrame,val):\n",
    "    M = (DataFrame.isnull().sum()/len(DataFrame))*100\n",
    "    print(\"Total Missing Value % in dataset : \",round(M.mean(),2))\n",
    "    print(M[M>val])\n",
    "    \n",
    "def Replace_0(DataFrame,cols):\n",
    "    for col in cols:\n",
    "        DataFrame[col].fillna(0,inplace=True)"
   ]
  },
  {
   "cell_type": "code",
   "execution_count": 178,
   "metadata": {},
   "outputs": [
    {
     "name": "stdout",
     "output_type": "stream",
     "text": [
      "Total Missing Value % in dataset :  15.91\n",
      "date_of_last_rech_data_6    74.846748\n",
      "date_of_last_rech_data_7    74.428744\n",
      "date_of_last_rech_data_8    73.660737\n",
      "date_of_last_rech_data_9    74.077741\n",
      "total_rech_data_6           74.846748\n",
      "total_rech_data_7           74.428744\n",
      "total_rech_data_8           73.660737\n",
      "total_rech_data_9           74.077741\n",
      "max_rech_data_6             74.846748\n",
      "max_rech_data_7             74.428744\n",
      "max_rech_data_8             73.660737\n",
      "max_rech_data_9             74.077741\n",
      "count_rech_2g_6             74.846748\n",
      "count_rech_2g_7             74.428744\n",
      "count_rech_2g_8             73.660737\n",
      "count_rech_2g_9             74.077741\n",
      "count_rech_3g_6             74.846748\n",
      "count_rech_3g_7             74.428744\n",
      "count_rech_3g_8             73.660737\n",
      "count_rech_3g_9             74.077741\n",
      "av_rech_amt_data_6          74.846748\n",
      "av_rech_amt_data_7          74.428744\n",
      "av_rech_amt_data_8          73.660737\n",
      "av_rech_amt_data_9          74.077741\n",
      "arpu_3g_6                   74.846748\n",
      "arpu_3g_7                   74.428744\n",
      "arpu_3g_8                   73.660737\n",
      "arpu_3g_9                   74.077741\n",
      "arpu_2g_6                   74.846748\n",
      "arpu_2g_7                   74.428744\n",
      "arpu_2g_8                   73.660737\n",
      "arpu_2g_9                   74.077741\n",
      "night_pck_user_6            74.846748\n",
      "night_pck_user_7            74.428744\n",
      "night_pck_user_8            73.660737\n",
      "night_pck_user_9            74.077741\n",
      "fb_user_6                   74.846748\n",
      "fb_user_7                   74.428744\n",
      "fb_user_8                   73.660737\n",
      "fb_user_9                   74.077741\n",
      "dtype: float64\n"
     ]
    }
   ],
   "source": [
    "#Missing values more than 20% in the dataset\n",
    "missing_values(df,20)"
   ]
  },
  {
   "cell_type": "code",
   "execution_count": 179,
   "metadata": {},
   "outputs": [],
   "source": [
    "#Missing cols except date \n",
    "cols = list(filter(lambda x: (((df[x].isnull().sum()/len(df)*100)>20) and (\"date\" not in x)),df.columns))"
   ]
  },
  {
   "cell_type": "code",
   "execution_count": 180,
   "metadata": {},
   "outputs": [],
   "source": [
    "Replace_0(df,cols)"
   ]
  },
  {
   "cell_type": "code",
   "execution_count": 181,
   "metadata": {},
   "outputs": [
    {
     "name": "stdout",
     "output_type": "stream",
     "text": [
      "Total Missing Value % in dataset :  4.08\n",
      "date_of_last_rech_data_6    74.846748\n",
      "date_of_last_rech_data_7    74.428744\n",
      "date_of_last_rech_data_8    73.660737\n",
      "date_of_last_rech_data_9    74.077741\n",
      "dtype: float64\n"
     ]
    }
   ],
   "source": [
    "missing_values(df,20)"
   ]
  },
  {
   "cell_type": "code",
   "execution_count": 182,
   "metadata": {},
   "outputs": [
    {
     "name": "stdout",
     "output_type": "stream",
     "text": [
      "Total Missing Value % in dataset :  4.08\n",
      "loc_og_t2o_mou               1.018010\n",
      "std_og_t2o_mou               1.018010\n",
      "loc_ic_t2o_mou               1.018010\n",
      "last_date_of_month_7         0.601006\n",
      "last_date_of_month_8         1.100011\n",
      "                              ...    \n",
      "date_of_last_rech_9          4.760048\n",
      "date_of_last_rech_data_6    74.846748\n",
      "date_of_last_rech_data_7    74.428744\n",
      "date_of_last_rech_data_8    73.660737\n",
      "date_of_last_rech_data_9    74.077741\n",
      "Length: 130, dtype: float64\n"
     ]
    }
   ],
   "source": [
    "missing_values(df,0)"
   ]
  },
  {
   "cell_type": "markdown",
   "metadata": {},
   "source": [
    "We have reduced Missing value % from `15 -> 4`"
   ]
  },
  {
   "cell_type": "markdown",
   "metadata": {},
   "source": [
    ">Data Preparation & Feature Engineering"
   ]
  },
  {
   "cell_type": "code",
   "execution_count": 104,
   "metadata": {},
   "outputs": [],
   "source": [
    "def recharge_col(DataFrame):\n",
    "    return list(filter(lambda x:(\"rech\" in x),DataFrame.columns))"
   ]
  },
  {
   "cell_type": "code",
   "execution_count": 105,
   "metadata": {},
   "outputs": [
    {
     "name": "stdout",
     "output_type": "stream",
     "text": [
      "['total_rech_num_6', 'total_rech_num_7', 'total_rech_num_8', 'total_rech_num_9', 'total_rech_amt_6', 'total_rech_amt_7', 'total_rech_amt_8', 'total_rech_amt_9', 'max_rech_amt_6', 'max_rech_amt_7', 'max_rech_amt_8', 'max_rech_amt_9', 'date_of_last_rech_6', 'date_of_last_rech_7', 'date_of_last_rech_8', 'date_of_last_rech_9', 'date_of_last_rech_data_6', 'date_of_last_rech_data_7', 'date_of_last_rech_data_8', 'date_of_last_rech_data_9', 'total_rech_data_6', 'total_rech_data_7', 'total_rech_data_8', 'total_rech_data_9', 'max_rech_data_6', 'max_rech_data_7', 'max_rech_data_8', 'max_rech_data_9', 'count_rech_2g_6', 'count_rech_2g_7', 'count_rech_2g_8', 'count_rech_2g_9', 'count_rech_3g_6', 'count_rech_3g_7', 'count_rech_3g_8', 'count_rech_3g_9', 'av_rech_amt_data_6', 'av_rech_amt_data_7', 'av_rech_amt_data_8', 'av_rech_amt_data_9']\n"
     ]
    }
   ],
   "source": [
    "recharge_cols = recharge_col(df)\n",
    "\n",
    "print(recharge_cols)"
   ]
  },
  {
   "cell_type": "markdown",
   "metadata": {},
   "source": [
    "Above, We have data for 4 month window in term of recharge_amount & recharge_data wise:\n",
    "    \n",
    "    - `total_rech_num` : Number of times recharge been done in that month\n",
    "    - `total_rech_amt` : Total Amount spent for recharge\n",
    "    - `max_rech_amt`   : Maximum amount for which recharge been done\n",
    "    - `total_rech_data`: Number of times DATA recharge been done in that month\n",
    "    - `max_rech_data`  : Maximum amount for which DATA recharge\n",
    "    - `count_rech_2g`  : No.of times 2G data recharge\n",
    "    - `count_rech_3g`  : No.of times 3G data recharge\n",
    "    - `av_rech_amt_data` : Average amount spent for DATA recharge\n",
    "\n",
    "<span style='color:blue'>Note: `total amount spent for DATA recharge` is missing- we can create a new attribute</span>\n",
    "\n",
    "<span style='color:red'>_We are not going to create any new features for `_9` month, As the `_9 month`data won't be available when deciding the churn_</span>"
   ]
  },
  {
   "cell_type": "code",
   "execution_count": 106,
   "metadata": {},
   "outputs": [],
   "source": [
    "def create_total_rech_amt_data(DataFrame):\n",
    "    \n",
    "    DataFrame['total_rech_data_amt_6'] = DataFrame['av_rech_amt_data_6'] * DataFrame['total_rech_data_6']\n",
    "    DataFrame['total_rech_data_amt_7'] = DataFrame['av_rech_amt_data_7'] * DataFrame['total_rech_data_7']\n",
    "    DataFrame['total_rech_data_amt_8'] = DataFrame['av_rech_amt_data_8'] * DataFrame['total_rech_data_8']\n",
    "\n",
    "    return DataFrame"
   ]
  },
  {
   "cell_type": "code",
   "execution_count": 107,
   "metadata": {},
   "outputs": [],
   "source": [
    "df = create_total_rech_amt_data(df)"
   ]
  },
  {
   "cell_type": "code",
   "execution_count": 108,
   "metadata": {},
   "outputs": [
    {
     "name": "stdout",
     "output_type": "stream",
     "text": [
      "['total_rech_num_6', 'total_rech_num_7', 'total_rech_num_8', 'total_rech_num_9', 'total_rech_amt_6', 'total_rech_amt_7', 'total_rech_amt_8', 'total_rech_amt_9', 'max_rech_amt_6', 'max_rech_amt_7', 'max_rech_amt_8', 'max_rech_amt_9', 'date_of_last_rech_6', 'date_of_last_rech_7', 'date_of_last_rech_8', 'date_of_last_rech_9', 'date_of_last_rech_data_6', 'date_of_last_rech_data_7', 'date_of_last_rech_data_8', 'date_of_last_rech_data_9', 'total_rech_data_6', 'total_rech_data_7', 'total_rech_data_8', 'total_rech_data_9', 'max_rech_data_6', 'max_rech_data_7', 'max_rech_data_8', 'max_rech_data_9', 'count_rech_2g_6', 'count_rech_2g_7', 'count_rech_2g_8', 'count_rech_2g_9', 'count_rech_3g_6', 'count_rech_3g_7', 'count_rech_3g_8', 'count_rech_3g_9', 'av_rech_amt_data_6', 'av_rech_amt_data_7', 'av_rech_amt_data_8', 'av_rech_amt_data_9', 'total_rech_data_amt_6', 'total_rech_data_amt_7', 'total_rech_data_amt_8']\n"
     ]
    }
   ],
   "source": [
    "print(recharge_col(df))"
   ]
  },
  {
   "cell_type": "markdown",
   "metadata": {},
   "source": [
    "<span style='color:blue'>Define new feature`Average amount spent for both DATA & recharge` in GOOD phase(6&7)</span>"
   ]
  },
  {
   "cell_type": "code",
   "execution_count": 109,
   "metadata": {},
   "outputs": [],
   "source": [
    "df['av_rech_amt_inc_data_good_phase'] = ( df['total_rech_amt_6'] + df['total_rech_data_amt_6']\\\n",
    "                                        + df['total_rech_amt_7'] + df['total_rech_data_amt_7'])/2"
   ]
  },
  {
   "cell_type": "code",
   "execution_count": 110,
   "metadata": {},
   "outputs": [
    {
     "data": {
      "text/plain": [
       "0    559.0\n",
       "1    306.0\n",
       "Name: av_rech_amt_inc_data_good_phase, dtype: float64"
      ]
     },
     "execution_count": 110,
     "metadata": {},
     "output_type": "execute_result"
    }
   ],
   "source": [
    "df['av_rech_amt_inc_data_good_phase'].head(2)"
   ]
  },
  {
   "cell_type": "markdown",
   "metadata": {},
   "source": [
    "<span style='color:blue'>Filter High Value Customers</span>\n",
    "\n",
    "High value customers: Those who have recharged with an amount more than or equal to X, \n",
    "where X is the 70th percentile of the average recharge amount in the first two months (the good phase) \n",
    "\n",
    "<p>Note: After filtering the high-value customers, you should get about 29.9k rows</p>"
   ]
  },
  {
   "cell_type": "code",
   "execution_count": 111,
   "metadata": {},
   "outputs": [
    {
     "name": "stdout",
     "output_type": "stream",
     "text": [
      "High Value Customers criteria :  478.0\n"
     ]
    }
   ],
   "source": [
    "criteria_High_value_cust = df['av_rech_amt_inc_data_good_phase'].quantile(0.7)\n",
    "\n",
    "print(\"High Value Customers criteria : \",criteria_High_value_cust)"
   ]
  },
  {
   "cell_type": "code",
   "execution_count": 112,
   "metadata": {},
   "outputs": [],
   "source": [
    "df_high_val = df[df.av_rech_amt_inc_data_good_phase > criteria_High_value_cust]"
   ]
  },
  {
   "cell_type": "code",
   "execution_count": 113,
   "metadata": {},
   "outputs": [
    {
     "data": {
      "text/plain": [
       "(29953, 230)"
      ]
     },
     "execution_count": 113,
     "metadata": {},
     "output_type": "execute_result"
    }
   ],
   "source": [
    "df_high_val.shape"
   ]
  },
  {
   "cell_type": "markdown",
   "metadata": {},
   "source": [
    ">Tag Churners and Remove attributes of churn phase\n",
    "\n",
    "- Churner : 1 else 0 based on 4th month\n",
    "- Criteria : `total_ic_mou_9`=0 and `total_og_mou_9`=0 and `vol_2g_mb_9`=0 and `vol_3g_mb_9`=0\n",
    "\n",
    "Note: People, who haven't used the data(2g/3g) and didn't receive any incoming/outgoing calls in last month"
   ]
  },
  {
   "cell_type": "code",
   "execution_count": 118,
   "metadata": {},
   "outputs": [],
   "source": [
    "def is_churn(DataFrame):\n",
    "    DataFrame['is_churn'] = np.where(((DataFrame.total_ic_mou_9==0) & (DataFrame.total_og_mou_9==0) \\\n",
    "                            & (DataFrame.vol_2g_mb_9==0) & (DataFrame.vol_3g_mb_9==0)),1,0)\n",
    "    return DataFrame"
   ]
  },
  {
   "cell_type": "code",
   "execution_count": 119,
   "metadata": {},
   "outputs": [],
   "source": [
    "df_high_val = is_churn(df_high_val)"
   ]
  },
  {
   "cell_type": "code",
   "execution_count": 126,
   "metadata": {},
   "outputs": [
    {
     "data": {
      "text/plain": [
       "0    27520\n",
       "1     2433\n",
       "Name: is_churn, dtype: int64"
      ]
     },
     "execution_count": 126,
     "metadata": {},
     "output_type": "execute_result"
    }
   ],
   "source": [
    "df_high_val['is_churn'].value_counts()"
   ]
  },
  {
   "cell_type": "code",
   "execution_count": 159,
   "metadata": {},
   "outputs": [
    {
     "name": "stdout",
     "output_type": "stream",
     "text": [
      "Churn Rate :  8.12 %\n"
     ]
    }
   ],
   "source": [
    "print(\"Churn Rate : \",round(df_high_val.is_churn.sum()/len(df_high_val)*100,2),'%')"
   ]
  },
  {
   "cell_type": "markdown",
   "metadata": {},
   "source": [
    "<span style='color:blue'>Remove Churn phase attributes `_9 month`</span>"
   ]
  },
  {
   "cell_type": "code",
   "execution_count": 162,
   "metadata": {},
   "outputs": [],
   "source": [
    "def get_churn_cols(DataFrame):\n",
    "    return list(filter(lambda x:(\"_9\" in x),DataFrame.columns))"
   ]
  },
  {
   "cell_type": "code",
   "execution_count": 164,
   "metadata": {},
   "outputs": [
    {
     "name": "stdout",
     "output_type": "stream",
     "text": [
      "Churn Attributes : \n",
      " ['last_date_of_month_9', 'arpu_9', 'onnet_mou_9', 'offnet_mou_9', 'roam_ic_mou_9', 'roam_og_mou_9', 'loc_og_t2t_mou_9', 'loc_og_t2m_mou_9', 'loc_og_t2f_mou_9', 'loc_og_t2c_mou_9', 'loc_og_mou_9', 'std_og_t2t_mou_9', 'std_og_t2m_mou_9', 'std_og_t2f_mou_9', 'std_og_t2c_mou_9', 'std_og_mou_9', 'isd_og_mou_9', 'spl_og_mou_9', 'og_others_9', 'total_og_mou_9', 'loc_ic_t2t_mou_9', 'loc_ic_t2m_mou_9', 'loc_ic_t2f_mou_9', 'loc_ic_mou_9', 'std_ic_t2t_mou_9', 'std_ic_t2m_mou_9', 'std_ic_t2f_mou_9', 'std_ic_t2o_mou_9', 'std_ic_mou_9', 'total_ic_mou_9', 'spl_ic_mou_9', 'isd_ic_mou_9', 'ic_others_9', 'total_rech_num_9', 'total_rech_amt_9', 'max_rech_amt_9', 'date_of_last_rech_9', 'last_day_rch_amt_9', 'date_of_last_rech_data_9', 'total_rech_data_9', 'max_rech_data_9', 'count_rech_2g_9', 'count_rech_3g_9', 'av_rech_amt_data_9', 'vol_2g_mb_9', 'vol_3g_mb_9', 'arpu_3g_9', 'arpu_2g_9', 'night_pck_user_9', 'monthly_2g_9', 'sachet_2g_9', 'monthly_3g_9', 'sachet_3g_9', 'fb_user_9']\n"
     ]
    }
   ],
   "source": [
    "churn_cols = get_churn_cols(df_high_val)\n",
    "\n",
    "print(\"Churn Attributes : \\n\",churn_cols)"
   ]
  },
  {
   "cell_type": "code",
   "execution_count": 168,
   "metadata": {},
   "outputs": [
    {
     "data": {
      "text/plain": [
       "(29953, 231)"
      ]
     },
     "execution_count": 168,
     "metadata": {},
     "output_type": "execute_result"
    }
   ],
   "source": [
    "df_high_val.shape"
   ]
  },
  {
   "cell_type": "code",
   "execution_count": 165,
   "metadata": {},
   "outputs": [],
   "source": [
    "data = df_high_val.drop(columns=churn_cols)"
   ]
  },
  {
   "cell_type": "code",
   "execution_count": 169,
   "metadata": {},
   "outputs": [
    {
     "data": {
      "text/plain": [
       "(29953, 177)"
      ]
     },
     "execution_count": 169,
     "metadata": {},
     "output_type": "execute_result"
    }
   ],
   "source": [
    "data.shape"
   ]
  },
  {
   "cell_type": "markdown",
   "metadata": {},
   "source": [
    ">PCA "
   ]
  },
  {
   "cell_type": "code",
   "execution_count": null,
   "metadata": {},
   "outputs": [],
   "source": []
  },
  {
   "cell_type": "code",
   "execution_count": null,
   "metadata": {},
   "outputs": [],
   "source": []
  },
  {
   "cell_type": "markdown",
   "metadata": {},
   "source": [
    ">Model Building"
   ]
  },
  {
   "cell_type": "code",
   "execution_count": null,
   "metadata": {},
   "outputs": [],
   "source": []
  }
 ],
 "metadata": {
  "kernelspec": {
   "display_name": "Python 3",
   "language": "python",
   "name": "python3"
  },
  "language_info": {
   "codemirror_mode": {
    "name": "ipython",
    "version": 3
   },
   "file_extension": ".py",
   "mimetype": "text/x-python",
   "name": "python",
   "nbconvert_exporter": "python",
   "pygments_lexer": "ipython3",
   "version": "3.8.5"
  }
 },
 "nbformat": 4,
 "nbformat_minor": 4
}
